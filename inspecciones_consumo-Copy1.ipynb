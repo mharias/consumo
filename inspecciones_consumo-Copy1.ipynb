{
 "cells": [
  {
   "cell_type": "markdown",
   "metadata": {},
   "source": [
    "## Análisis de Inspecciones de Consumo en Madrid durante Trimestre 17"
   ]
  },
  {
   "cell_type": "markdown",
   "metadata": {},
   "source": [
    "Vamos a analizar el fichero de multas del **Ayuntamiento de Madrid**, con información sacada del portal de OPenData : http://datos.madrid.es"
   ]
  },
  {
   "cell_type": "markdown",
   "metadata": {},
   "source": [
    "Como siempre importamos las librerias necesarias : pandas, numpy y matplotlib.....github x2 dfsdfsdf x2"
   ]
  },
  {
   "cell_type": "code",
   "execution_count": 4,
   "metadata": {
    "collapsed": true
   },
   "outputs": [],
   "source": [
    "import pandas as pd"
   ]
  },
  {
   "cell_type": "code",
   "execution_count": 5,
   "metadata": {
    "collapsed": true
   },
   "outputs": [],
   "source": [
    "import numpy as np"
   ]
  },
  {
   "cell_type": "code",
   "execution_count": 6,
   "metadata": {
    "collapsed": true
   },
   "outputs": [],
   "source": [
    "import matplotlib"
   ]
  },
  {
   "cell_type": "code",
   "execution_count": 7,
   "metadata": {
    "collapsed": true
   },
   "outputs": [],
   "source": [
    "import matplotlib.pyplot as plt"
   ]
  },
  {
   "cell_type": "code",
   "execution_count": 8,
   "metadata": {
    "collapsed": true
   },
   "outputs": [],
   "source": [
    "import datetime"
   ]
  },
  {
   "cell_type": "code",
   "execution_count": 9,
   "metadata": {
    "collapsed": true
   },
   "outputs": [],
   "source": [
    "import matplotlib.dates as mdates"
   ]
  },
  {
   "cell_type": "code",
   "execution_count": 10,
   "metadata": {
    "collapsed": true
   },
   "outputs": [],
   "source": [
    "%matplotlib inline"
   ]
  },
  {
   "cell_type": "code",
   "execution_count": 11,
   "metadata": {
    "collapsed": true
   },
   "outputs": [],
   "source": [
    "import matplotlib.ticker as mtick"
   ]
  },
  {
   "cell_type": "code",
   "execution_count": 12,
   "metadata": {
    "collapsed": true
   },
   "outputs": [],
   "source": [
    "from matplotlib.ticker import FuncFormatter"
   ]
  },
  {
   "cell_type": "code",
   "execution_count": 13,
   "metadata": {
    "collapsed": true
   },
   "outputs": [],
   "source": [
    "pd.options.display.float_format = '{:,.1f}'.format"
   ]
  },
  {
   "cell_type": "markdown",
   "metadata": {},
   "source": [
    "Preparamos una texto para incluirlo en cada gráfico como fuente..."
   ]
  },
  {
   "cell_type": "code",
   "execution_count": 14,
   "metadata": {
    "collapsed": true
   },
   "outputs": [],
   "source": [
    "fuente='Fuente : Ayuntamiento de Madrid, http://datos.madrid.es'"
   ]
  },
  {
   "cell_type": "markdown",
   "metadata": {},
   "source": [
    "Preparando la URL de la fuente de datos"
   ]
  },
  {
   "cell_type": "code",
   "execution_count": 15,
   "metadata": {
    "collapsed": true
   },
   "outputs": [],
   "source": [
    "path_web='http://datos.madrid.es/egob/catalogo/300079-2-inspecciones-consumo.csv'"
   ]
  },
  {
   "cell_type": "markdown",
   "metadata": {},
   "source": [
    "cabecera de las columnas"
   ]
  },
  {
   "cell_type": "markdown",
   "metadata": {},
   "source": [
    "Leemos los datos desde su localizacion en 'path_web', en este fichero tenemos los datos de Junio de 2017. Al respecto de la la identificacion de la multa en el tiempo tendremos la hora pero no el día del mes, es decir : tendremos las multas puestas a las 13:10 a lo largo de todo el mes, pero no podremos partirlas por día. No encuentro otra razón que no sea evitar cualquier vía de identificación del conductor."
   ]
  },
  {
   "cell_type": "code",
   "execution_count": 16,
   "metadata": {
    "collapsed": true
   },
   "outputs": [],
   "source": [
    "inspecciones=pd.read_csv(path_web,sep=\";\",encoding='windows-1250',index_col=False)"
   ]
  },
  {
   "cell_type": "markdown",
   "metadata": {
    "collapsed": true
   },
   "source": [
    "confirmamos que ha bajado correctamente\n",
    "\n",
    "inspecciones"
   ]
  },
  {
   "cell_type": "code",
   "execution_count": 17,
   "metadata": {},
   "outputs": [
    {
     "data": {
      "text/plain": [
       "5845"
      ]
     },
     "execution_count": 17,
     "metadata": {},
     "output_type": "execute_result"
    }
   ],
   "source": [
    "len(inspecciones)"
   ]
  },
  {
   "cell_type": "code",
   "execution_count": 18,
   "metadata": {},
   "outputs": [
    {
     "data": {
      "text/plain": [
       "Index(['FECHA_DE_INSPECCION', 'DISTRITO', 'TIPO_VIAL_ACCESO_PRINCIPAL',\n",
       "       'NOMBRE_VIA_ACCESO_PRINCIPAL', 'NUMERO_VIA_ACCESO_PRINCIPAL',\n",
       "       'ACTIVIDAD_INSPECTORA', 'AMBITO', 'EPIGRAFE', 'Unnamed: 8'],\n",
       "      dtype='object')"
      ]
     },
     "execution_count": 18,
     "metadata": {},
     "output_type": "execute_result"
    }
   ],
   "source": [
    "inspecciones.columns"
   ]
  },
  {
   "cell_type": "code",
   "execution_count": 19,
   "metadata": {
    "collapsed": true
   },
   "outputs": [],
   "source": [
    "inspecciones.drop('Unnamed: 8',axis=1,inplace=True)"
   ]
  },
  {
   "cell_type": "code",
   "execution_count": 20,
   "metadata": {},
   "outputs": [
    {
     "data": {
      "text/plain": [
       "Index(['FECHA_DE_INSPECCION', 'DISTRITO', 'TIPO_VIAL_ACCESO_PRINCIPAL',\n",
       "       'NOMBRE_VIA_ACCESO_PRINCIPAL', 'NUMERO_VIA_ACCESO_PRINCIPAL',\n",
       "       'ACTIVIDAD_INSPECTORA', 'AMBITO', 'EPIGRAFE'],\n",
       "      dtype='object')"
      ]
     },
     "execution_count": 20,
     "metadata": {},
     "output_type": "execute_result"
    }
   ],
   "source": [
    "inspecciones.columns"
   ]
  },
  {
   "cell_type": "code",
   "execution_count": 21,
   "metadata": {},
   "outputs": [
    {
     "data": {
      "text/html": [
       "<div>\n",
       "<style>\n",
       "    .dataframe thead tr:only-child th {\n",
       "        text-align: right;\n",
       "    }\n",
       "\n",
       "    .dataframe thead th {\n",
       "        text-align: left;\n",
       "    }\n",
       "\n",
       "    .dataframe tbody tr th {\n",
       "        vertical-align: top;\n",
       "    }\n",
       "</style>\n",
       "<table border=\"1\" class=\"dataframe\">\n",
       "  <thead>\n",
       "    <tr style=\"text-align: right;\">\n",
       "      <th></th>\n",
       "      <th>FECHA_DE_INSPECCION</th>\n",
       "      <th>DISTRITO</th>\n",
       "      <th>TIPO_VIAL_ACCESO_PRINCIPAL</th>\n",
       "      <th>NOMBRE_VIA_ACCESO_PRINCIPAL</th>\n",
       "      <th>NUMERO_VIA_ACCESO_PRINCIPAL</th>\n",
       "      <th>ACTIVIDAD_INSPECTORA</th>\n",
       "      <th>AMBITO</th>\n",
       "      <th>EPIGRAFE</th>\n",
       "    </tr>\n",
       "  </thead>\n",
       "  <tbody>\n",
       "    <tr>\n",
       "      <th>0</th>\n",
       "      <td>02/01/2017</td>\n",
       "      <td>06 - TETUAN</td>\n",
       "      <td>CL</td>\n",
       "      <td>ORENSE</td>\n",
       "      <td>69</td>\n",
       "      <td>10 - Inspección</td>\n",
       "      <td>10 - Consumo</td>\n",
       "      <td>951001 - REPARACION DE ORDENADORES Y EQUIPOS D...</td>\n",
       "    </tr>\n",
       "    <tr>\n",
       "      <th>1</th>\n",
       "      <td>02/01/2017</td>\n",
       "      <td>20 - SAN BLAS - CANILLEJAS</td>\n",
       "      <td>CL</td>\n",
       "      <td>RUMANIA</td>\n",
       "      <td>18</td>\n",
       "      <td>10 - Inspección</td>\n",
       "      <td>10 - Consumo</td>\n",
       "      <td>475206 - COMERCIO AL POR MENOR DE MATERIAL ELE...</td>\n",
       "    </tr>\n",
       "    <tr>\n",
       "      <th>2</th>\n",
       "      <td>02/01/2017</td>\n",
       "      <td>20 - SAN BLAS - CANILLEJAS</td>\n",
       "      <td>CL</td>\n",
       "      <td>RUMANIA</td>\n",
       "      <td>16</td>\n",
       "      <td>10 - Inspección</td>\n",
       "      <td>10 - Consumo</td>\n",
       "      <td>475906 - COMERCIO AL POR MENOR DE APARATOS DE ...</td>\n",
       "    </tr>\n",
       "    <tr>\n",
       "      <th>3</th>\n",
       "      <td>02/01/2017</td>\n",
       "      <td>13 - PUENTE VALLECAS</td>\n",
       "      <td>AV</td>\n",
       "      <td>ALBUFERA</td>\n",
       "      <td>0</td>\n",
       "      <td>10 - Inspección</td>\n",
       "      <td>10 - Consumo</td>\n",
       "      <td>47800106 - SITUADOS: ARTICULOS NAVIDEŃOS NO AL...</td>\n",
       "    </tr>\n",
       "    <tr>\n",
       "      <th>4</th>\n",
       "      <td>02/01/2017</td>\n",
       "      <td>13 - PUENTE VALLECAS</td>\n",
       "      <td>AV</td>\n",
       "      <td>ALBUFERA</td>\n",
       "      <td>0</td>\n",
       "      <td>10 - Inspección</td>\n",
       "      <td>10 - Consumo</td>\n",
       "      <td>47800108 - SITUADOS: COMPLEMENTOS, BISUTERIA Y...</td>\n",
       "    </tr>\n",
       "  </tbody>\n",
       "</table>\n",
       "</div>"
      ],
      "text/plain": [
       "  FECHA_DE_INSPECCION                    DISTRITO TIPO_VIAL_ACCESO_PRINCIPAL  \\\n",
       "0          02/01/2017                 06 - TETUAN                         CL   \n",
       "1          02/01/2017  20 - SAN BLAS - CANILLEJAS                         CL   \n",
       "2          02/01/2017  20 - SAN BLAS - CANILLEJAS                         CL   \n",
       "3          02/01/2017        13 - PUENTE VALLECAS                         AV   \n",
       "4          02/01/2017        13 - PUENTE VALLECAS                         AV   \n",
       "\n",
       "  NOMBRE_VIA_ACCESO_PRINCIPAL  NUMERO_VIA_ACCESO_PRINCIPAL  \\\n",
       "0                      ORENSE                           69   \n",
       "1                     RUMANIA                           18   \n",
       "2                     RUMANIA                           16   \n",
       "3                    ALBUFERA                            0   \n",
       "4                    ALBUFERA                            0   \n",
       "\n",
       "  ACTIVIDAD_INSPECTORA        AMBITO  \\\n",
       "0      10 - Inspección  10 - Consumo   \n",
       "1      10 - Inspección  10 - Consumo   \n",
       "2      10 - Inspección  10 - Consumo   \n",
       "3      10 - Inspección  10 - Consumo   \n",
       "4      10 - Inspección  10 - Consumo   \n",
       "\n",
       "                                            EPIGRAFE  \n",
       "0  951001 - REPARACION DE ORDENADORES Y EQUIPOS D...  \n",
       "1  475206 - COMERCIO AL POR MENOR DE MATERIAL ELE...  \n",
       "2  475906 - COMERCIO AL POR MENOR DE APARATOS DE ...  \n",
       "3  47800106 - SITUADOS: ARTICULOS NAVIDEŃOS NO AL...  \n",
       "4  47800108 - SITUADOS: COMPLEMENTOS, BISUTERIA Y...  "
      ]
     },
     "execution_count": 21,
     "metadata": {},
     "output_type": "execute_result"
    }
   ],
   "source": [
    "inspecciones.head(5)"
   ]
  },
  {
   "cell_type": "code",
   "execution_count": 22,
   "metadata": {
    "collapsed": true
   },
   "outputs": [],
   "source": [
    "inspecciones['FECHA_DE_INSPECCION']=pd.to_datetime(inspecciones['FECHA_DE_INSPECCION'],format='%d/%m/%Y')"
   ]
  },
  {
   "cell_type": "code",
   "execution_count": 63,
   "metadata": {},
   "outputs": [
    {
     "data": {
      "text/plain": [
       "<matplotlib.axes._subplots.AxesSubplot at 0x11df37668>"
      ]
     },
     "execution_count": 63,
     "metadata": {},
     "output_type": "execute_result"
    },
    {
     "data": {
      "image/png": "[encoded data removed]",
      "text/plain": [
       "<matplotlib.figure.Figure at 0x11e1adac8>"
      ]
     },
     "metadata": {},
     "output_type": "display_data"
    }
   ],
   "source": [
    "inspecciones.groupby('DISTRITO').size().sort_values().plot.barh()"
   ]
  },
  {
   "cell_type": "code",
   "execution_count": 90,
   "metadata": {},
   "outputs": [
    {
     "data": {
      "text/plain": [
       "NOMBRE_VIA_ACCESO_PRINCIPAL  NUMERO_VIA_ACCESO_PRINCIPAL\n",
       "ESTACION DE HORTALEZA        0                              142\n",
       "AREQUIPA                     1                              127\n",
       "LAS AGUILAS                  0                               99\n",
       "CAMPILLO DEL MUNDO NUEVO     0                               97\n",
       "CALDERILLA                   1                               93\n",
       "MONFORTE DE LEMOS            30                              73\n",
       "ARACNE                       3                               69\n",
       "ALCALA                       412                             56\n",
       "FLORIDA                      2                               48\n",
       "ADOLFO BIOY CASARES          2                               42\n",
       "CASTELLANA                   204                             39\n",
       "ARTURO SORIA                 126                             36\n",
       "AYERBE                       0                               30\n",
       "CLAUDIO MOYANO               0                               26\n",
       "GENERAL PERON                40                              26\n",
       "PUERTO DEL BRUCH             4                               25\n",
       "SILVANO                      77                              25\n",
       "RAMON PEREZ DE AYALA         0                               22\n",
       "ALCALA                       237                             19\n",
       "GUATAVITA                    1                               18\n",
       "VICTORIA                     2                               17\n",
       "ESPAŃA                       18                              16\n",
       "SANTA EUGENIA                8                               15\n",
       "MANUEL MACHADO               3                               14\n",
       "PABLO NERUDA                 93                              14\n",
       "TERTULIA                     1                               12\n",
       "ALCALA                       328                             11\n",
       "DOCTOR VALLEJO               12                              11\n",
       "SAN CIPRIANO                 11                              10\n",
       "CLAUDIO COELLO               88                              10\n",
       "                                                           ... \n",
       "ISLA DE JAVA                 33                               1\n",
       "                             84                               1\n",
       "ISLA DE SICILIA              1                                1\n",
       "ISLA DE TAVIRA               30                               1\n",
       "                             34                               1\n",
       "ILLESCAS                     105                              1\n",
       "                             45                               1\n",
       "HERMOSILLA                   134                              1\n",
       "HORMIGUERAS                  125                              1\n",
       "HERNAN CORTES                22                               1\n",
       "HERNANI                      50                               1\n",
       "HIERRO                       4                                1\n",
       "HIGUERAS                     57                               1\n",
       "HILARION ESLAVA              24                               1\n",
       "                             30                               1\n",
       "                             40                               1\n",
       "HINOJAL                      5                                1\n",
       "HISPANIDAD                   46                               1\n",
       "HORTALEZA                    46                               1\n",
       "ILLESCAS                     34                               1\n",
       "HORTALEZA                    54                               1\n",
       "                             63                               1\n",
       "HUMILLADERO                  15                               1\n",
       "IBIZA                        5                                1\n",
       "                             8                                1\n",
       "                             21                               1\n",
       "                             62                               1\n",
       "                             68                               1\n",
       "ILLESCAS                     22                               1\n",
       "GUZMAN EL BUENO              116                              1\n",
       "Length: 2429, dtype: int64"
      ]
     },
     "execution_count": 90,
     "metadata": {},
     "output_type": "execute_result"
    }
   ],
   "source": [
    "inspecciones.groupby(['NOMBRE_VIA_ACCESO_PRINCIPAL','NUMERO_VIA_ACCESO_PRINCIPAL']).size().sort_values(ascending=False)"
   ]
  },
  {
   "cell_type": "code",
   "execution_count": 80,
   "metadata": {},
   "outputs": [
    {
     "data": {
      "text/plain": [
       "NOMBRE_VIA_ACCESO_PRINCIPAL  NUMERO_VIA_ACCESO_PRINCIPAL\n",
       "ALCALA                       237                            19\n",
       "CLAUDIO COELLO               88                             10\n",
       "AMERICA                      4                               9\n",
       "HERMOSILLA                   26                              8\n",
       "BOCANGEL                     1                               8\n",
       "CLAUDIO COELLO               38                              7\n",
       "BRUSELAS                     60                              7\n",
       "TOREROS                      24                              6\n",
       "BRUSELAS                     63                              6\n",
       "MARQUES DE ZAFRA             9                               6\n",
       "BRUSELAS                     41                              6\n",
       "GOYA                         17                              6\n",
       "LAGASCA                      88                              6\n",
       "DON RAMON DE LA CRUZ         17                              6\n",
       "SERRANO                      61                              6\n",
       "MARTINEZ IZQUIERDO           14                              5\n",
       "BRUSELAS                     38                              5\n",
       "ALCALA                       231                             5\n",
       "CARTAGENA                    24                              5\n",
       "AMERICA                      28                              5\n",
       "HERMOSILLA                   138                             4\n",
       "NUŃEZ DE BALBOA              57                              4\n",
       "HERMOSILLA                   153                             4\n",
       "                             102                             4\n",
       "ANTONIO TOLEDANO             36                              4\n",
       "BRUSELAS                     61                              4\n",
       "JOSE ORTEGA Y GASSET         19                              4\n",
       "JORGE JUAN                   124                             4\n",
       "CARTAGENA                    58                              4\n",
       "MARQUES DE ZAFRA             20                              4\n",
       "                                                            ..\n",
       "GENERAL DIAZ PORLIER         21                              1\n",
       "FUENTE DEL BERRO             6                               1\n",
       "DON RAMON DE LA CRUZ         31                              1\n",
       "HERMOSILLA                   89                              1\n",
       "MARIA DE MOLINA              66                              1\n",
       "HERMOSILLA                   95                              1\n",
       "LONDRES                      8                               1\n",
       "BRUSELAS                     65                              1\n",
       "FRANCISCO SILVELA            76                              1\n",
       "CARDENAL BELLUGA             6                               1\n",
       "JUAN BRAVO                   63                              1\n",
       "                             31                              1\n",
       "JOSE ORTEGA Y GASSET         96                              1\n",
       "                             52                              1\n",
       "CARTAGENA                    77                              1\n",
       "CASTELLANA                   34                              1\n",
       "JORGE JUAN                   78                              1\n",
       "CASTELLO                     107                             1\n",
       "JORGE JUAN                   9                               1\n",
       "CLAUDIO COELLO               139                             1\n",
       "HERMOSILLA                   134                             1\n",
       "COLOMER                      3                               1\n",
       "CONDE DE PEŃALVER            34                              1\n",
       "                             80                              1\n",
       "COSLADA                      6                               1\n",
       "                             15                              1\n",
       "DIEGO DE LEON                27                              1\n",
       "                             30                              1\n",
       "HERMOSILLA                   124                             1\n",
       "BRUSELAS                     68                              1\n",
       "Length: 295, dtype: int64"
      ]
     },
     "execution_count": 80,
     "metadata": {},
     "output_type": "execute_result"
    }
   ],
   "source": [
    "inspecciones[inspecciones['DISTRITO']=='04 - SALAMANCA'].groupby(['NOMBRE_VIA_ACCESO_PRINCIPAL','NUMERO_VIA_ACCESO_PRINCIPAL']).size().sort_values(ascending=False)"
   ]
  },
  {
   "cell_type": "markdown",
   "metadata": {},
   "source": [
    "Añadimos una columna hora_entera, tal que la hora (desde 00 hasta 23) para facilidad de cálculo de algunos gráficos.."
   ]
  },
  {
   "cell_type": "code",
   "execution_count": 80,
   "metadata": {},
   "outputs": [
    {
     "data": {
      "text/plain": [
       "<matplotlib.axes._subplots.AxesSubplot at 0x11f727b38>"
      ]
     },
     "execution_count": 80,
     "metadata": {},
     "output_type": "execute_result"
    },
    {
     "data": {
      "image/png": "[encoded data removed]",
      "text/plain": [
       "<matplotlib.figure.Figure at 0x11f354dd8>"
      ]
     },
     "metadata": {},
     "output_type": "display_data"
    }
   ],
   "source": [
    "inspecciones[inspecciones['NOMBRE_VIA_ACCESO_PRINCIPAL']=='ESTACION DE HORTALEZA'].groupby(['FECHA_DE_INSPECCION']).size().plot.bar()"
   ]
  },
  {
   "cell_type": "code",
   "execution_count": 57,
   "metadata": {},
   "outputs": [
    {
     "data": {
      "text/plain": [
       "<matplotlib.axes._subplots.AxesSubplot at 0x11e6b7278>"
      ]
     },
     "execution_count": 57,
     "metadata": {},
     "output_type": "execute_result"
    },
    {
     "data": {
      "image/png": "[encoded data removed]",
      "text/plain": [
       "<matplotlib.figure.Figure at 0x11e6abda0>"
      ]
     },
     "metadata": {},
     "output_type": "display_data"
    }
   ],
   "source": [
    "inspecciones.groupby([inspecciones[\"FECHA_DE_INSPECCION\"].dt.month]).size().plot(kind=\"bar\")"
   ]
  },
  {
   "cell_type": "code",
   "execution_count": 54,
   "metadata": {},
   "outputs": [
    {
     "data": {
      "text/plain": [
       "<matplotlib.axes._subplots.AxesSubplot at 0x11e029b38>"
      ]
     },
     "execution_count": 54,
     "metadata": {},
     "output_type": "execute_result"
    },
    {
     "data": {
      "image/png": "[encoded data removed]",
      "text/plain": [
       "<matplotlib.figure.Figure at 0x11da33b70>"
      ]
     },
     "metadata": {},
     "output_type": "display_data"
    }
   ],
   "source": [
    "inspecciones.groupby([inspecciones[\"FECHA_DE_INSPECCION\"].dt.week]).size().plot(kind=\"bar\")"
   ]
  },
  {
   "cell_type": "code",
   "execution_count": 93,
   "metadata": {},
   "outputs": [
    {
     "data": {
      "text/plain": [
       "<matplotlib.axes._subplots.AxesSubplot at 0x11fde5d30>"
      ]
     },
     "execution_count": 93,
     "metadata": {},
     "output_type": "execute_result"
    },
    {
     "data": {
      "image/png": "[encoded data removed]",
      "text/plain": [
       "<matplotlib.figure.Figure at 0x11fcd1f60>"
      ]
     },
     "metadata": {},
     "output_type": "display_data"
    }
   ],
   "source": [
    "inspecciones.groupby([inspecciones[\"FECHA_DE_INSPECCION\"].dt.weekday_name]).size().plot(kind=\"bar\")"
   ]
  },
  {
   "cell_type": "code",
   "execution_count": 66,
   "metadata": {},
   "outputs": [
    {
     "data": {
      "text/plain": [
       "<matplotlib.axes._subplots.AxesSubplot at 0x11ec7e630>"
      ]
     },
     "execution_count": 66,
     "metadata": {},
     "output_type": "execute_result"
    },
    {
     "data": {
      "image/png": "[encoded data removed]",
      "text/plain": [
       "<matplotlib.figure.Figure at 0x11e3cd240>"
      ]
     },
     "metadata": {},
     "output_type": "display_data"
    }
   ],
   "source": [
    "inspecciones.groupby(['EPIGRAFE']).size().sort_values(ascending=True).tail(20).plot.barh()"
   ]
  },
  {
   "cell_type": "code",
   "execution_count": 85,
   "metadata": {},
   "outputs": [
    {
     "data": {
      "text/plain": [
       "array(['10 - Inspección', '30 - Control de Productos',\n",
       "       '20 - Otros Controles Oficiales'], dtype=object)"
      ]
     },
     "execution_count": 85,
     "metadata": {},
     "output_type": "execute_result"
    }
   ],
   "source": [
    "inspecciones['ACTIVIDAD_INSPECTORA'].unique()"
   ]
  },
  {
   "cell_type": "code",
   "execution_count": 88,
   "metadata": {},
   "outputs": [
    {
     "data": {
      "text/plain": [
       "<matplotlib.axes._subplots.AxesSubplot at 0x11fa152e8>"
      ]
     },
     "execution_count": 88,
     "metadata": {},
     "output_type": "execute_result"
    },
    {
     "data": {
      "image/png": "[encoded data removed]",
      "text/plain": [
       "<matplotlib.figure.Figure at 0x11fa6f8d0>"
      ]
     },
     "metadata": {},
     "output_type": "display_data"
    }
   ],
   "source": [
    "inspecciones.groupby(['ACTIVIDAD_INSPECTORA']).size().sort_values(ascending=True).head(2).plot.barh()"
   ]
  },
  {
   "cell_type": "code",
   "execution_count": 95,
   "metadata": {},
   "outputs": [
    {
     "data": {
      "text/html": [
       "<div>\n",
       "<style>\n",
       "    .dataframe thead tr:only-child th {\n",
       "        text-align: right;\n",
       "    }\n",
       "\n",
       "    .dataframe thead th {\n",
       "        text-align: left;\n",
       "    }\n",
       "\n",
       "    .dataframe tbody tr th {\n",
       "        vertical-align: top;\n",
       "    }\n",
       "</style>\n",
       "<table border=\"1\" class=\"dataframe\">\n",
       "  <thead>\n",
       "    <tr style=\"text-align: right;\">\n",
       "      <th></th>\n",
       "      <th>FECHA_DE_INSPECCION</th>\n",
       "      <th>DISTRITO</th>\n",
       "      <th>TIPO_VIAL_ACCESO_PRINCIPAL</th>\n",
       "      <th>NOMBRE_VIA_ACCESO_PRINCIPAL</th>\n",
       "      <th>NUMERO_VIA_ACCESO_PRINCIPAL</th>\n",
       "      <th>ACTIVIDAD_INSPECTORA</th>\n",
       "      <th>AMBITO</th>\n",
       "      <th>EPIGRAFE</th>\n",
       "    </tr>\n",
       "  </thead>\n",
       "  <tbody>\n",
       "    <tr>\n",
       "      <th>159</th>\n",
       "      <td>2017-01-19</td>\n",
       "      <td>12 - USERA</td>\n",
       "      <td>CL</td>\n",
       "      <td>MARIBLANCA</td>\n",
       "      <td>11</td>\n",
       "      <td>30 - Control de Productos</td>\n",
       "      <td>10 - Consumo</td>\n",
       "      <td>471104 - COM.MENOR PRODUCTOS ALIMENTICIOS NO P...</td>\n",
       "    </tr>\n",
       "    <tr>\n",
       "      <th>313</th>\n",
       "      <td>2017-01-23</td>\n",
       "      <td>01 - CENTRO</td>\n",
       "      <td>CL</td>\n",
       "      <td>GRAN VIA</td>\n",
       "      <td>29</td>\n",
       "      <td>30 - Control de Productos</td>\n",
       "      <td>10 - Consumo</td>\n",
       "      <td>476101 - COMERCIO AL POR MENOR DE LIBROS</td>\n",
       "    </tr>\n",
       "    <tr>\n",
       "      <th>613</th>\n",
       "      <td>2017-02-02</td>\n",
       "      <td>21 - BARAJAS</td>\n",
       "      <td>CL</td>\n",
       "      <td>AGUETOL</td>\n",
       "      <td>8</td>\n",
       "      <td>30 - Control de Productos</td>\n",
       "      <td>10 - Consumo</td>\n",
       "      <td>471901 - COM.MENOR ESTABL.NO ESPEC.S/PREDOMINI...</td>\n",
       "    </tr>\n",
       "    <tr>\n",
       "      <th>1199</th>\n",
       "      <td>2017-01-09</td>\n",
       "      <td>07 - CHAMBERI</td>\n",
       "      <td>CL</td>\n",
       "      <td>RIOS ROSAS</td>\n",
       "      <td>2</td>\n",
       "      <td>30 - Control de Productos</td>\n",
       "      <td>10 - Consumo</td>\n",
       "      <td>475901 - COMERCIO AL POR MENOR DE MUEBLES</td>\n",
       "    </tr>\n",
       "    <tr>\n",
       "      <th>1489</th>\n",
       "      <td>2017-02-24</td>\n",
       "      <td>01 - CENTRO</td>\n",
       "      <td>CL</td>\n",
       "      <td>FUENCARRAL</td>\n",
       "      <td>94</td>\n",
       "      <td>30 - Control de Productos</td>\n",
       "      <td>10 - Consumo</td>\n",
       "      <td>477808 - OTRO COMERCIO AL POR MENOR DEL ARTICU...</td>\n",
       "    </tr>\n",
       "    <tr>\n",
       "      <th>1495</th>\n",
       "      <td>2017-02-24</td>\n",
       "      <td>01 - CENTRO</td>\n",
       "      <td>CL</td>\n",
       "      <td>FUENCARRAL</td>\n",
       "      <td>94</td>\n",
       "      <td>30 - Control de Productos</td>\n",
       "      <td>10 - Consumo</td>\n",
       "      <td>477808 - OTRO COMERCIO AL POR MENOR DEL ARTICU...</td>\n",
       "    </tr>\n",
       "    <tr>\n",
       "      <th>1498</th>\n",
       "      <td>2017-02-24</td>\n",
       "      <td>01 - CENTRO</td>\n",
       "      <td>CL</td>\n",
       "      <td>FUENCARRAL</td>\n",
       "      <td>94</td>\n",
       "      <td>30 - Control de Productos</td>\n",
       "      <td>10 - Consumo</td>\n",
       "      <td>477808 - OTRO COMERCIO AL POR MENOR DEL ARTICU...</td>\n",
       "    </tr>\n",
       "    <tr>\n",
       "      <th>1503</th>\n",
       "      <td>2017-02-24</td>\n",
       "      <td>01 - CENTRO</td>\n",
       "      <td>CL</td>\n",
       "      <td>FUENCARRAL</td>\n",
       "      <td>94</td>\n",
       "      <td>30 - Control de Productos</td>\n",
       "      <td>10 - Consumo</td>\n",
       "      <td>477808 - OTRO COMERCIO AL POR MENOR DEL ARTICU...</td>\n",
       "    </tr>\n",
       "    <tr>\n",
       "      <th>2595</th>\n",
       "      <td>2017-01-21</td>\n",
       "      <td>10 - LATINA</td>\n",
       "      <td>AV</td>\n",
       "      <td>LAS AGUILAS</td>\n",
       "      <td>0</td>\n",
       "      <td>30 - Control de Productos</td>\n",
       "      <td>10 - Consumo</td>\n",
       "      <td>477101 - COMERCIO MENOR PRENDAS DE VESTIR EN E...</td>\n",
       "    </tr>\n",
       "    <tr>\n",
       "      <th>5018</th>\n",
       "      <td>2017-05-31</td>\n",
       "      <td>08 - FUENCARRAL-EL PARDO</td>\n",
       "      <td>AV</td>\n",
       "      <td>MONFORTE DE LEMOS</td>\n",
       "      <td>30</td>\n",
       "      <td>30 - Control de Productos</td>\n",
       "      <td>10 - Consumo</td>\n",
       "      <td>476501 - COMERCIO AL POR MENOR DE JUEGOS Y JUG...</td>\n",
       "    </tr>\n",
       "  </tbody>\n",
       "</table>\n",
       "</div>"
      ],
      "text/plain": [
       "     FECHA_DE_INSPECCION                  DISTRITO TIPO_VIAL_ACCESO_PRINCIPAL  \\\n",
       "159           2017-01-19                12 - USERA                         CL   \n",
       "313           2017-01-23               01 - CENTRO                         CL   \n",
       "613           2017-02-02              21 - BARAJAS                         CL   \n",
       "1199          2017-01-09             07 - CHAMBERI                         CL   \n",
       "1489          2017-02-24               01 - CENTRO                         CL   \n",
       "1495          2017-02-24               01 - CENTRO                         CL   \n",
       "1498          2017-02-24               01 - CENTRO                         CL   \n",
       "1503          2017-02-24               01 - CENTRO                         CL   \n",
       "2595          2017-01-21               10 - LATINA                         AV   \n",
       "5018          2017-05-31  08 - FUENCARRAL-EL PARDO                         AV   \n",
       "\n",
       "     NOMBRE_VIA_ACCESO_PRINCIPAL  NUMERO_VIA_ACCESO_PRINCIPAL  \\\n",
       "159                   MARIBLANCA                           11   \n",
       "313                     GRAN VIA                           29   \n",
       "613                      AGUETOL                            8   \n",
       "1199                  RIOS ROSAS                            2   \n",
       "1489                  FUENCARRAL                           94   \n",
       "1495                  FUENCARRAL                           94   \n",
       "1498                  FUENCARRAL                           94   \n",
       "1503                  FUENCARRAL                           94   \n",
       "2595                 LAS AGUILAS                            0   \n",
       "5018           MONFORTE DE LEMOS                           30   \n",
       "\n",
       "           ACTIVIDAD_INSPECTORA        AMBITO  \\\n",
       "159   30 - Control de Productos  10 - Consumo   \n",
       "313   30 - Control de Productos  10 - Consumo   \n",
       "613   30 - Control de Productos  10 - Consumo   \n",
       "1199  30 - Control de Productos  10 - Consumo   \n",
       "1489  30 - Control de Productos  10 - Consumo   \n",
       "1495  30 - Control de Productos  10 - Consumo   \n",
       "1498  30 - Control de Productos  10 - Consumo   \n",
       "1503  30 - Control de Productos  10 - Consumo   \n",
       "2595  30 - Control de Productos  10 - Consumo   \n",
       "5018  30 - Control de Productos  10 - Consumo   \n",
       "\n",
       "                                               EPIGRAFE  \n",
       "159   471104 - COM.MENOR PRODUCTOS ALIMENTICIOS NO P...  \n",
       "313            476101 - COMERCIO AL POR MENOR DE LIBROS  \n",
       "613   471901 - COM.MENOR ESTABL.NO ESPEC.S/PREDOMINI...  \n",
       "1199          475901 - COMERCIO AL POR MENOR DE MUEBLES  \n",
       "1489  477808 - OTRO COMERCIO AL POR MENOR DEL ARTICU...  \n",
       "1495  477808 - OTRO COMERCIO AL POR MENOR DEL ARTICU...  \n",
       "1498  477808 - OTRO COMERCIO AL POR MENOR DEL ARTICU...  \n",
       "1503  477808 - OTRO COMERCIO AL POR MENOR DEL ARTICU...  \n",
       "2595  477101 - COMERCIO MENOR PRENDAS DE VESTIR EN E...  \n",
       "5018  476501 - COMERCIO AL POR MENOR DE JUEGOS Y JUG...  "
      ]
     },
     "execution_count": 95,
     "metadata": {},
     "output_type": "execute_result"
    }
   ],
   "source": [
    "inspecciones[inspecciones['ACTIVIDAD_INSPECTORA']=='30 - Control de Productos']"
   ]
  },
  {
   "cell_type": "code",
   "execution_count": null,
   "metadata": {
    "collapsed": true
   },
   "outputs": [],
   "source": []
  },
  {
   "cell_type": "code",
   "execution_count": null,
   "metadata": {
    "collapsed": true
   },
   "outputs": [],
   "source": []
  }
 ],
 "metadata": {
  "kernelspec": {
   "display_name": "Python 3",
   "language": "python",
   "name": "python3"
  },
  "language_info": {
   "codemirror_mode": {
    "name": "ipython",
    "version": 3
   },
   "file_extension": ".py",
   "mimetype": "text/x-python",
   "name": "python",
   "nbconvert_exporter": "python",
   "pygments_lexer": "ipython3",
   "version": "3.6.2"
  }
 },
 "nbformat": 4,
 "nbformat_minor": 2
}
