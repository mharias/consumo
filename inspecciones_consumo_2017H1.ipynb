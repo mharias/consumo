{
 "cells": [
  {
   "cell_type": "markdown",
   "metadata": {},
   "source": [
    "# Análisis de Inspecciones de Consumo en Madrid durante el primer semestre 2017"
   ]
  },
  {
   "cell_type": "markdown",
   "metadata": {},
   "source": [
    "Vamos a analizar el fichero de multas del **Ayuntamiento de Madrid**, con información sacada del portal de OpenData : http://datos.madrid.es"
   ]
  },
  {
   "cell_type": "markdown",
   "metadata": {},
   "source": [
    "Como siempre importamos las librerias necesarias : pandas, numpy y matplotlib:"
   ]
  },
  {
   "cell_type": "code",
   "execution_count": 11,
   "metadata": {
    "collapsed": true
   },
   "outputs": [],
   "source": [
    "import pandas as pd"
   ]
  },
  {
   "cell_type": "code",
   "execution_count": 12,
   "metadata": {
    "collapsed": true
   },
   "outputs": [],
   "source": [
    "import numpy as np"
   ]
  },
  {
   "cell_type": "code",
   "execution_count": 13,
   "metadata": {
    "collapsed": true
   },
   "outputs": [],
   "source": [
    "import matplotlib"
   ]
  },
  {
   "cell_type": "code",
   "execution_count": 14,
   "metadata": {
    "collapsed": true
   },
   "outputs": [],
   "source": [
    "import matplotlib.pyplot as plt"
   ]
  },
  {
   "cell_type": "code",
   "execution_count": 15,
   "metadata": {
    "collapsed": true
   },
   "outputs": [],
   "source": [
    "import datetime"
   ]
  },
  {
   "cell_type": "code",
   "execution_count": 16,
   "metadata": {
    "collapsed": true
   },
   "outputs": [],
   "source": [
    "import matplotlib.dates as mdates"
   ]
  },
  {
   "cell_type": "code",
   "execution_count": 17,
   "metadata": {
    "collapsed": true
   },
   "outputs": [],
   "source": [
    "%matplotlib inline"
   ]
  },
  {
   "cell_type": "code",
   "execution_count": 18,
   "metadata": {
    "collapsed": true
   },
   "outputs": [],
   "source": [
    "import matplotlib.ticker as mtick"
   ]
  },
  {
   "cell_type": "code",
   "execution_count": 19,
   "metadata": {
    "collapsed": true
   },
   "outputs": [],
   "source": [
    "from matplotlib.ticker import FuncFormatter"
   ]
  },
  {
   "cell_type": "code",
   "execution_count": 20,
   "metadata": {
    "collapsed": true
   },
   "outputs": [],
   "source": [
    "pd.options.display.float_format = '{:,.1f}'.format"
   ]
  },
  {
   "cell_type": "markdown",
   "metadata": {},
   "source": [
    "Preparamos una texto para incluirlo en cada gráfico como fuente..."
   ]
  },
  {
   "cell_type": "code",
   "execution_count": 21,
   "metadata": {
    "collapsed": true
   },
   "outputs": [],
   "source": [
    "fuente='Fuente : Ayuntamiento de Madrid, http://datos.madrid.es'"
   ]
  },
  {
   "cell_type": "markdown",
   "metadata": {},
   "source": [
    "Preparando la URL de la fuente de datos"
   ]
  },
  {
   "cell_type": "code",
   "execution_count": 22,
   "metadata": {
    "collapsed": true
   },
   "outputs": [],
   "source": [
    "path_web='http://datos.madrid.es/egob/catalogo/300079-2-inspecciones-consumo.csv'"
   ]
  },
  {
   "cell_type": "code",
   "execution_count": 67,
   "metadata": {
    "collapsed": true
   },
   "outputs": [],
   "source": [
    "inspecciones=pd.read_csv(path_web,sep=\";\",encoding='windows-1250',index_col=False)"
   ]
  },
  {
   "cell_type": "markdown",
   "metadata": {
    "collapsed": true
   },
   "source": [
    "confirmamos que ha bajado correctamente, viendo el nº de registros (nº de inspecciones)"
   ]
  },
  {
   "cell_type": "code",
   "execution_count": 68,
   "metadata": {},
   "outputs": [
    {
     "data": {
      "text/plain": [
       "5845"
      ]
     },
     "execution_count": 68,
     "metadata": {},
     "output_type": "execute_result"
    }
   ],
   "source": [
    "len(inspecciones)"
   ]
  },
  {
   "cell_type": "code",
   "execution_count": 69,
   "metadata": {},
   "outputs": [
    {
     "data": {
      "text/plain": [
       "Index(['FECHA_DE_INSPECCION', 'DISTRITO', 'TIPO_VIAL_ACCESO_PRINCIPAL',\n",
       "       'NOMBRE_VIA_ACCESO_PRINCIPAL', 'NUMERO_VIA_ACCESO_PRINCIPAL',\n",
       "       'ACTIVIDAD_INSPECTORA', 'AMBITO', 'EPIGRAFE', 'Unnamed: 8'],\n",
       "      dtype='object')"
      ]
     },
     "execution_count": 69,
     "metadata": {},
     "output_type": "execute_result"
    }
   ],
   "source": [
    "inspecciones.columns"
   ]
  },
  {
   "cell_type": "markdown",
   "metadata": {},
   "source": [
    "Qué es esa columna llamada **'Unnamed: 8'**?. Tiene toda la pinta de ser un error de carga del fichero. Comprobémoslo, y borrémosla si así es :  "
   ]
  },
  {
   "cell_type": "code",
   "execution_count": 70,
   "metadata": {},
   "outputs": [
    {
     "data": {
      "text/plain": [
       "0   nan\n",
       "1   nan\n",
       "2   nan\n",
       "3   nan\n",
       "4   nan\n",
       "5   nan\n",
       "6   nan\n",
       "7   nan\n",
       "8   nan\n",
       "9   nan\n",
       "Name: Unnamed: 8, dtype: float64"
      ]
     },
     "execution_count": 70,
     "metadata": {},
     "output_type": "execute_result"
    }
   ],
   "source": [
    "inspecciones['Unnamed: 8'].head(10)"
   ]
  },
  {
   "cell_type": "code",
   "execution_count": 38,
   "metadata": {
    "collapsed": true
   },
   "outputs": [],
   "source": [
    "inspecciones.drop('Unnamed: 8',axis=1,inplace=True)"
   ]
  },
  {
   "cell_type": "code",
   "execution_count": 40,
   "metadata": {},
   "outputs": [
    {
     "data": {
      "text/plain": [
       "Index(['FECHA_DE_INSPECCION', 'DISTRITO', 'TIPO_VIAL_ACCESO_PRINCIPAL',\n",
       "       'NOMBRE_VIA_ACCESO_PRINCIPAL', 'NUMERO_VIA_ACCESO_PRINCIPAL',\n",
       "       'ACTIVIDAD_INSPECTORA', 'AMBITO', 'EPIGRAFE'],\n",
       "      dtype='object')"
      ]
     },
     "execution_count": 40,
     "metadata": {},
     "output_type": "execute_result"
    }
   ],
   "source": [
    "inspecciones.columns"
   ]
  },
  {
   "cell_type": "markdown",
   "metadata": {},
   "source": [
    "Veamos una muestra (las cinco primeras filas) del tipo de datos que nos encontramos :"
   ]
  },
  {
   "cell_type": "code",
   "execution_count": 42,
   "metadata": {},
   "outputs": [
    {
     "data": {
      "text/html": [
       "<div>\n",
       "<style>\n",
       "    .dataframe thead tr:only-child th {\n",
       "        text-align: right;\n",
       "    }\n",
       "\n",
       "    .dataframe thead th {\n",
       "        text-align: left;\n",
       "    }\n",
       "\n",
       "    .dataframe tbody tr th {\n",
       "        vertical-align: top;\n",
       "    }\n",
       "</style>\n",
       "<table border=\"1\" class=\"dataframe\">\n",
       "  <thead>\n",
       "    <tr style=\"text-align: right;\">\n",
       "      <th></th>\n",
       "      <th>FECHA_DE_INSPECCION</th>\n",
       "      <th>DISTRITO</th>\n",
       "      <th>TIPO_VIAL_ACCESO_PRINCIPAL</th>\n",
       "      <th>NOMBRE_VIA_ACCESO_PRINCIPAL</th>\n",
       "      <th>NUMERO_VIA_ACCESO_PRINCIPAL</th>\n",
       "      <th>ACTIVIDAD_INSPECTORA</th>\n",
       "      <th>AMBITO</th>\n",
       "      <th>EPIGRAFE</th>\n",
       "    </tr>\n",
       "  </thead>\n",
       "  <tbody>\n",
       "    <tr>\n",
       "      <th>0</th>\n",
       "      <td>02/01/2017</td>\n",
       "      <td>06 - TETUAN</td>\n",
       "      <td>CL</td>\n",
       "      <td>ORENSE</td>\n",
       "      <td>69</td>\n",
       "      <td>10 - Inspección</td>\n",
       "      <td>10 - Consumo</td>\n",
       "      <td>951001 - REPARACION DE ORDENADORES Y EQUIPOS D...</td>\n",
       "    </tr>\n",
       "    <tr>\n",
       "      <th>1</th>\n",
       "      <td>02/01/2017</td>\n",
       "      <td>20 - SAN BLAS - CANILLEJAS</td>\n",
       "      <td>CL</td>\n",
       "      <td>RUMANIA</td>\n",
       "      <td>18</td>\n",
       "      <td>10 - Inspección</td>\n",
       "      <td>10 - Consumo</td>\n",
       "      <td>475206 - COMERCIO AL POR MENOR DE MATERIAL ELE...</td>\n",
       "    </tr>\n",
       "    <tr>\n",
       "      <th>2</th>\n",
       "      <td>02/01/2017</td>\n",
       "      <td>20 - SAN BLAS - CANILLEJAS</td>\n",
       "      <td>CL</td>\n",
       "      <td>RUMANIA</td>\n",
       "      <td>16</td>\n",
       "      <td>10 - Inspección</td>\n",
       "      <td>10 - Consumo</td>\n",
       "      <td>475906 - COMERCIO AL POR MENOR DE APARATOS DE ...</td>\n",
       "    </tr>\n",
       "    <tr>\n",
       "      <th>3</th>\n",
       "      <td>02/01/2017</td>\n",
       "      <td>13 - PUENTE VALLECAS</td>\n",
       "      <td>AV</td>\n",
       "      <td>ALBUFERA</td>\n",
       "      <td>0</td>\n",
       "      <td>10 - Inspección</td>\n",
       "      <td>10 - Consumo</td>\n",
       "      <td>47800106 - SITUADOS: ARTICULOS NAVIDEŃOS NO AL...</td>\n",
       "    </tr>\n",
       "    <tr>\n",
       "      <th>4</th>\n",
       "      <td>02/01/2017</td>\n",
       "      <td>13 - PUENTE VALLECAS</td>\n",
       "      <td>AV</td>\n",
       "      <td>ALBUFERA</td>\n",
       "      <td>0</td>\n",
       "      <td>10 - Inspección</td>\n",
       "      <td>10 - Consumo</td>\n",
       "      <td>47800108 - SITUADOS: COMPLEMENTOS, BISUTERIA Y...</td>\n",
       "    </tr>\n",
       "  </tbody>\n",
       "</table>\n",
       "</div>"
      ],
      "text/plain": [
       "  FECHA_DE_INSPECCION                    DISTRITO TIPO_VIAL_ACCESO_PRINCIPAL  \\\n",
       "0          02/01/2017                 06 - TETUAN                         CL   \n",
       "1          02/01/2017  20 - SAN BLAS - CANILLEJAS                         CL   \n",
       "2          02/01/2017  20 - SAN BLAS - CANILLEJAS                         CL   \n",
       "3          02/01/2017        13 - PUENTE VALLECAS                         AV   \n",
       "4          02/01/2017        13 - PUENTE VALLECAS                         AV   \n",
       "\n",
       "  NOMBRE_VIA_ACCESO_PRINCIPAL  NUMERO_VIA_ACCESO_PRINCIPAL  \\\n",
       "0                      ORENSE                           69   \n",
       "1                     RUMANIA                           18   \n",
       "2                     RUMANIA                           16   \n",
       "3                    ALBUFERA                            0   \n",
       "4                    ALBUFERA                            0   \n",
       "\n",
       "  ACTIVIDAD_INSPECTORA        AMBITO  \\\n",
       "0      10 - Inspección  10 - Consumo   \n",
       "1      10 - Inspección  10 - Consumo   \n",
       "2      10 - Inspección  10 - Consumo   \n",
       "3      10 - Inspección  10 - Consumo   \n",
       "4      10 - Inspección  10 - Consumo   \n",
       "\n",
       "                                            EPIGRAFE  \n",
       "0  951001 - REPARACION DE ORDENADORES Y EQUIPOS D...  \n",
       "1  475206 - COMERCIO AL POR MENOR DE MATERIAL ELE...  \n",
       "2  475906 - COMERCIO AL POR MENOR DE APARATOS DE ...  \n",
       "3  47800106 - SITUADOS: ARTICULOS NAVIDEŃOS NO AL...  \n",
       "4  47800108 - SITUADOS: COMPLEMENTOS, BISUTERIA Y...  "
      ]
     },
     "execution_count": 42,
     "metadata": {},
     "output_type": "execute_result"
    }
   ],
   "source": [
    "inspecciones.head(5)"
   ]
  },
  {
   "cell_type": "markdown",
   "metadata": {},
   "source": [
    "Reformateamos la columna de **FECHA_DE_INSPECCION** para convertirlo en `datetime`"
   ]
  },
  {
   "cell_type": "code",
   "execution_count": 43,
   "metadata": {
    "collapsed": true
   },
   "outputs": [],
   "source": [
    "inspecciones['FECHA_DE_INSPECCION']=pd.to_datetime(inspecciones['FECHA_DE_INSPECCION'],format='%d/%m/%Y')"
   ]
  },
  {
   "cell_type": "markdown",
   "metadata": {},
   "source": [
    "Empecemos con unos gráficos: nº de **inspecciones** por distritos :"
   ]
  },
  {
   "cell_type": "code",
   "execution_count": 63,
   "metadata": {},
   "outputs": [
    {
     "data": {
      "text/plain": [
       "<matplotlib.axes._subplots.AxesSubplot at 0x11df37668>"
      ]
     },
     "execution_count": 63,
     "metadata": {},
     "output_type": "execute_result"
    },
    {
     "data": {
      "image/png": "[encoded data removed]",
      "text/plain": [
       "<matplotlib.figure.Figure at 0x11e1adac8>"
      ]
     },
     "metadata": {},
     "output_type": "display_data"
    }
   ],
   "source": [
    "inspecciones.groupby('DISTRITO').size().sort_values().plot.barh()"
   ]
  },
  {
   "cell_type": "markdown",
   "metadata": {},
   "source": [
    "Contruyamos ahora unas tablas, la *primera* con el top 20 de direcciones con más inspecciones, y la *segunda* con el top de inspecciones en el distrito con más inspecciones : **Barrio Salamanca**"
   ]
  },
  {
   "cell_type": "code",
   "execution_count": 47,
   "metadata": {},
   "outputs": [
    {
     "data": {
      "text/plain": [
       "NOMBRE_VIA_ACCESO_PRINCIPAL  NUMERO_VIA_ACCESO_PRINCIPAL\n",
       "ESTACION DE HORTALEZA        0                              142\n",
       "AREQUIPA                     1                              127\n",
       "LAS AGUILAS                  0                               99\n",
       "CAMPILLO DEL MUNDO NUEVO     0                               97\n",
       "CALDERILLA                   1                               93\n",
       "MONFORTE DE LEMOS            30                              73\n",
       "ARACNE                       3                               69\n",
       "ALCALA                       412                             56\n",
       "FLORIDA                      2                               48\n",
       "ADOLFO BIOY CASARES          2                               42\n",
       "CASTELLANA                   204                             39\n",
       "ARTURO SORIA                 126                             36\n",
       "AYERBE                       0                               30\n",
       "CLAUDIO MOYANO               0                               26\n",
       "GENERAL PERON                40                              26\n",
       "PUERTO DEL BRUCH             4                               25\n",
       "SILVANO                      77                              25\n",
       "RAMON PEREZ DE AYALA         0                               22\n",
       "ALCALA                       237                             19\n",
       "GUATAVITA                    1                               18\n",
       "dtype: int64"
      ]
     },
     "execution_count": 47,
     "metadata": {},
     "output_type": "execute_result"
    }
   ],
   "source": [
    "inspecciones.groupby(['NOMBRE_VIA_ACCESO_PRINCIPAL','NUMERO_VIA_ACCESO_PRINCIPAL']).size().sort_values(ascending=False).head(20)"
   ]
  },
  {
   "cell_type": "code",
   "execution_count": 46,
   "metadata": {},
   "outputs": [
    {
     "data": {
      "text/plain": [
       "NOMBRE_VIA_ACCESO_PRINCIPAL  NUMERO_VIA_ACCESO_PRINCIPAL\n",
       "ALCALA                       237                            19\n",
       "CLAUDIO COELLO               88                             10\n",
       "AMERICA                      4                               9\n",
       "HERMOSILLA                   26                              8\n",
       "BOCANGEL                     1                               8\n",
       "CLAUDIO COELLO               38                              7\n",
       "BRUSELAS                     60                              7\n",
       "TOREROS                      24                              6\n",
       "BRUSELAS                     63                              6\n",
       "MARQUES DE ZAFRA             9                               6\n",
       "BRUSELAS                     41                              6\n",
       "GOYA                         17                              6\n",
       "LAGASCA                      88                              6\n",
       "DON RAMON DE LA CRUZ         17                              6\n",
       "SERRANO                      61                              6\n",
       "MARTINEZ IZQUIERDO           14                              5\n",
       "BRUSELAS                     38                              5\n",
       "ALCALA                       231                             5\n",
       "CARTAGENA                    24                              5\n",
       "AMERICA                      28                              5\n",
       "dtype: int64"
      ]
     },
     "execution_count": 46,
     "metadata": {},
     "output_type": "execute_result"
    }
   ],
   "source": [
    "inspecciones[inspecciones['DISTRITO']=='04 - SALAMANCA'].groupby(['NOMBRE_VIA_ACCESO_PRINCIPAL','NUMERO_VIA_ACCESO_PRINCIPAL']).size().sort_values(ascending=False).head(20)"
   ]
  },
  {
   "cell_type": "markdown",
   "metadata": {},
   "source": [
    "Os preguntáis qué hay en [Alcalá, 237](https://www.google.es/maps/place/Calle+de+Alcalá,+237,+28028+Madrid/@40.4315852,-3.6650519,17z/data=!3m1!4b1!4m5!3m4!1s0xd4228b4d0c19fa7:0xd687677872669167!8m2!3d40.4315811!4d-3.6628632) ??. Y [en Estación de Hortaleza, 0](https://www.google.es/maps/place/Ctra.+la+Estacion+de+Hortaleza,+0,+28033+Madrid/@40.4769833,-3.6565148,16.96z/data=!4m5!3m4!1s0xd422eb7b736a465:0xd7f6977d53d5624!8m2!3d40.476989!4d-3.654247) ??..en este caso no es inmediato, pero podremos comprobar que se refiere al Mercado Dominical de Hortaleza"
   ]
  },
  {
   "cell_type": "markdown",
   "metadata": {},
   "source": [
    "Veamos en qué días se realizan esas inspecciones : "
   ]
  },
  {
   "cell_type": "code",
   "execution_count": 50,
   "metadata": {},
   "outputs": [
    {
     "data": {
      "text/plain": [
       "<matplotlib.axes._subplots.AxesSubplot at 0x10823fd30>"
      ]
     },
     "execution_count": 50,
     "metadata": {},
     "output_type": "execute_result"
    },
    {
     "data": {
      "image/png": "[encoded data removed]",
      "text/plain": [
       "<matplotlib.figure.Figure at 0x10820b940>"
      ]
     },
     "metadata": {},
     "output_type": "display_data"
    }
   ],
   "source": [
    "inspecciones[inspecciones['NOMBRE_VIA_ACCESO_PRINCIPAL']=='ESTACION DE HORTALEZA'].groupby(['FECHA_DE_INSPECCION']).size().plot.bar()"
   ]
  },
  {
   "cell_type": "markdown",
   "metadata": {},
   "source": [
    "Vemos que esos días se corresponden con **Domingo**"
   ]
  },
  {
   "cell_type": "markdown",
   "metadata": {},
   "source": [
    "A continuación veamos la diestribución por meses...(1-> Enero, 2->Febrero, ......)"
   ]
  },
  {
   "cell_type": "code",
   "execution_count": 53,
   "metadata": {},
   "outputs": [
    {
     "data": {
      "text/plain": [
       "<matplotlib.axes._subplots.AxesSubplot at 0x10820b0b8>"
      ]
     },
     "execution_count": 53,
     "metadata": {},
     "output_type": "execute_result"
    },
    {
     "data": {
      "image/png": "[encoded data removed]",
      "text/plain": [
       "<matplotlib.figure.Figure at 0x108ad1978>"
      ]
     },
     "metadata": {},
     "output_type": "display_data"
    }
   ],
   "source": [
    "inspecciones.groupby([inspecciones[\"FECHA_DE_INSPECCION\"].dt.month]).size().plot(kind=\"bar\")"
   ]
  },
  {
   "cell_type": "markdown",
   "metadata": {},
   "source": [
    "Por semanas : "
   ]
  },
  {
   "cell_type": "code",
   "execution_count": 54,
   "metadata": {},
   "outputs": [
    {
     "data": {
      "text/plain": [
       "<matplotlib.axes._subplots.AxesSubplot at 0x11e029b38>"
      ]
     },
     "execution_count": 54,
     "metadata": {},
     "output_type": "execute_result"
    },
    {
     "data": {
      "image/png": "[encoded data removed]",
      "text/plain": [
       "<matplotlib.figure.Figure at 0x11da33b70>"
      ]
     },
     "metadata": {},
     "output_type": "display_data"
    }
   ],
   "source": [
    "inspecciones.groupby([inspecciones[\"FECHA_DE_INSPECCION\"].dt.week]).size().plot(kind=\"bar\")"
   ]
  },
  {
   "cell_type": "markdown",
   "metadata": {},
   "source": [
    "La semana 15 coincidió con la **Semana Santa**"
   ]
  },
  {
   "cell_type": "code",
   "execution_count": null,
   "metadata": {
    "collapsed": true
   },
   "outputs": [],
   "source": [
    "...y finalmente la distribución por días : "
   ]
  },
  {
   "cell_type": "code",
   "execution_count": 58,
   "metadata": {},
   "outputs": [
    {
     "data": {
      "text/plain": [
       "<matplotlib.axes._subplots.AxesSubplot at 0x1106b0d68>"
      ]
     },
     "execution_count": 58,
     "metadata": {},
     "output_type": "execute_result"
    },
    {
     "data": {
      "image/png": "[encoded data removed]",
      "text/plain": [
       "<matplotlib.figure.Figure at 0x11043e2b0>"
      ]
     },
     "metadata": {},
     "output_type": "display_data"
    }
   ],
   "source": [
    "inspecciones.groupby([inspecciones[\"FECHA_DE_INSPECCION\"].dt.weekday_name]).size().sort_values().plot(kind=\"bar\")"
   ]
  },
  {
   "cell_type": "markdown",
   "metadata": {},
   "source": [
    "Veamos ahora la distribución de las inspecciones según el **EPIGRAFE** del comercio/local afectado :  "
   ]
  },
  {
   "cell_type": "code",
   "execution_count": 66,
   "metadata": {},
   "outputs": [
    {
     "data": {
      "text/plain": [
       "<matplotlib.axes._subplots.AxesSubplot at 0x110ff5a90>"
      ]
     },
     "execution_count": 66,
     "metadata": {},
     "output_type": "execute_result"
    },
    {
     "data": {
      "image/png": "[encoded data removed]",
      "text/plain": [
       "<matplotlib.figure.Figure at 0x11118aa20>"
      ]
     },
     "metadata": {},
     "output_type": "display_data"
    }
   ],
   "source": [
    "inspecciones.groupby(['EPIGRAFE']).size().sort_values(ascending=True).tail(20).plot.barh()"
   ]
  },
  {
   "cell_type": "markdown",
   "metadata": {},
   "source": [
    "Y por último echemos un vistazo a los tipos de **ACTIVIDAD_INSPECTORA**, viendo la lista de inspecciones de una de ellas..."
   ]
  },
  {
   "cell_type": "code",
   "execution_count": 72,
   "metadata": {},
   "outputs": [
    {
     "data": {
      "text/plain": [
       "array(['10 - Inspección', '30 - Control de Productos',\n",
       "       '20 - Otros Controles Oficiales'], dtype=object)"
      ]
     },
     "execution_count": 72,
     "metadata": {},
     "output_type": "execute_result"
    }
   ],
   "source": [
    "inspecciones['ACTIVIDAD_INSPECTORA'].unique()"
   ]
  },
  {
   "cell_type": "code",
   "execution_count": 73,
   "metadata": {},
   "outputs": [
    {
     "data": {
      "text/plain": [
       "<matplotlib.axes._subplots.AxesSubplot at 0x1113669e8>"
      ]
     },
     "execution_count": 73,
     "metadata": {},
     "output_type": "execute_result"
    },
    {
     "data": {
      "image/png": "[encoded data removed]",
      "text/plain": [
       "<matplotlib.figure.Figure at 0x11134bc88>"
      ]
     },
     "metadata": {},
     "output_type": "display_data"
    }
   ],
   "source": [
    "inspecciones.groupby(['ACTIVIDAD_INSPECTORA']).size().sort_values(ascending=True).head(2).plot.barh()"
   ]
  },
  {
   "cell_type": "code",
   "execution_count": 74,
   "metadata": {},
   "outputs": [
    {
     "data": {
      "text/html": [
       "<div>\n",
       "<style>\n",
       "    .dataframe thead tr:only-child th {\n",
       "        text-align: right;\n",
       "    }\n",
       "\n",
       "    .dataframe thead th {\n",
       "        text-align: left;\n",
       "    }\n",
       "\n",
       "    .dataframe tbody tr th {\n",
       "        vertical-align: top;\n",
       "    }\n",
       "</style>\n",
       "<table border=\"1\" class=\"dataframe\">\n",
       "  <thead>\n",
       "    <tr style=\"text-align: right;\">\n",
       "      <th></th>\n",
       "      <th>FECHA_DE_INSPECCION</th>\n",
       "      <th>DISTRITO</th>\n",
       "      <th>TIPO_VIAL_ACCESO_PRINCIPAL</th>\n",
       "      <th>NOMBRE_VIA_ACCESO_PRINCIPAL</th>\n",
       "      <th>NUMERO_VIA_ACCESO_PRINCIPAL</th>\n",
       "      <th>ACTIVIDAD_INSPECTORA</th>\n",
       "      <th>AMBITO</th>\n",
       "      <th>EPIGRAFE</th>\n",
       "      <th>Unnamed: 8</th>\n",
       "    </tr>\n",
       "  </thead>\n",
       "  <tbody>\n",
       "    <tr>\n",
       "      <th>159</th>\n",
       "      <td>19/01/2017</td>\n",
       "      <td>12 - USERA</td>\n",
       "      <td>CL</td>\n",
       "      <td>MARIBLANCA</td>\n",
       "      <td>11</td>\n",
       "      <td>30 - Control de Productos</td>\n",
       "      <td>10 - Consumo</td>\n",
       "      <td>471104 - COM.MENOR PRODUCTOS ALIMENTICIOS NO P...</td>\n",
       "      <td>nan</td>\n",
       "    </tr>\n",
       "    <tr>\n",
       "      <th>313</th>\n",
       "      <td>23/01/2017</td>\n",
       "      <td>01 - CENTRO</td>\n",
       "      <td>CL</td>\n",
       "      <td>GRAN VIA</td>\n",
       "      <td>29</td>\n",
       "      <td>30 - Control de Productos</td>\n",
       "      <td>10 - Consumo</td>\n",
       "      <td>476101 - COMERCIO AL POR MENOR DE LIBROS</td>\n",
       "      <td>nan</td>\n",
       "    </tr>\n",
       "    <tr>\n",
       "      <th>613</th>\n",
       "      <td>02/02/2017</td>\n",
       "      <td>21 - BARAJAS</td>\n",
       "      <td>CL</td>\n",
       "      <td>AGUETOL</td>\n",
       "      <td>8</td>\n",
       "      <td>30 - Control de Productos</td>\n",
       "      <td>10 - Consumo</td>\n",
       "      <td>471901 - COM.MENOR ESTABL.NO ESPEC.S/PREDOMINI...</td>\n",
       "      <td>nan</td>\n",
       "    </tr>\n",
       "    <tr>\n",
       "      <th>1199</th>\n",
       "      <td>09/01/2017</td>\n",
       "      <td>07 - CHAMBERI</td>\n",
       "      <td>CL</td>\n",
       "      <td>RIOS ROSAS</td>\n",
       "      <td>2</td>\n",
       "      <td>30 - Control de Productos</td>\n",
       "      <td>10 - Consumo</td>\n",
       "      <td>475901 - COMERCIO AL POR MENOR DE MUEBLES</td>\n",
       "      <td>nan</td>\n",
       "    </tr>\n",
       "    <tr>\n",
       "      <th>1489</th>\n",
       "      <td>24/02/2017</td>\n",
       "      <td>01 - CENTRO</td>\n",
       "      <td>CL</td>\n",
       "      <td>FUENCARRAL</td>\n",
       "      <td>94</td>\n",
       "      <td>30 - Control de Productos</td>\n",
       "      <td>10 - Consumo</td>\n",
       "      <td>477808 - OTRO COMERCIO AL POR MENOR DEL ARTICU...</td>\n",
       "      <td>nan</td>\n",
       "    </tr>\n",
       "    <tr>\n",
       "      <th>1495</th>\n",
       "      <td>24/02/2017</td>\n",
       "      <td>01 - CENTRO</td>\n",
       "      <td>CL</td>\n",
       "      <td>FUENCARRAL</td>\n",
       "      <td>94</td>\n",
       "      <td>30 - Control de Productos</td>\n",
       "      <td>10 - Consumo</td>\n",
       "      <td>477808 - OTRO COMERCIO AL POR MENOR DEL ARTICU...</td>\n",
       "      <td>nan</td>\n",
       "    </tr>\n",
       "    <tr>\n",
       "      <th>1498</th>\n",
       "      <td>24/02/2017</td>\n",
       "      <td>01 - CENTRO</td>\n",
       "      <td>CL</td>\n",
       "      <td>FUENCARRAL</td>\n",
       "      <td>94</td>\n",
       "      <td>30 - Control de Productos</td>\n",
       "      <td>10 - Consumo</td>\n",
       "      <td>477808 - OTRO COMERCIO AL POR MENOR DEL ARTICU...</td>\n",
       "      <td>nan</td>\n",
       "    </tr>\n",
       "    <tr>\n",
       "      <th>1503</th>\n",
       "      <td>24/02/2017</td>\n",
       "      <td>01 - CENTRO</td>\n",
       "      <td>CL</td>\n",
       "      <td>FUENCARRAL</td>\n",
       "      <td>94</td>\n",
       "      <td>30 - Control de Productos</td>\n",
       "      <td>10 - Consumo</td>\n",
       "      <td>477808 - OTRO COMERCIO AL POR MENOR DEL ARTICU...</td>\n",
       "      <td>nan</td>\n",
       "    </tr>\n",
       "    <tr>\n",
       "      <th>2595</th>\n",
       "      <td>21/01/2017</td>\n",
       "      <td>10 - LATINA</td>\n",
       "      <td>AV</td>\n",
       "      <td>LAS AGUILAS</td>\n",
       "      <td>0</td>\n",
       "      <td>30 - Control de Productos</td>\n",
       "      <td>10 - Consumo</td>\n",
       "      <td>477101 - COMERCIO MENOR PRENDAS DE VESTIR EN E...</td>\n",
       "      <td>nan</td>\n",
       "    </tr>\n",
       "    <tr>\n",
       "      <th>5018</th>\n",
       "      <td>31/05/2017</td>\n",
       "      <td>08 - FUENCARRAL-EL PARDO</td>\n",
       "      <td>AV</td>\n",
       "      <td>MONFORTE DE LEMOS</td>\n",
       "      <td>30</td>\n",
       "      <td>30 - Control de Productos</td>\n",
       "      <td>10 - Consumo</td>\n",
       "      <td>476501 - COMERCIO AL POR MENOR DE JUEGOS Y JUG...</td>\n",
       "      <td>nan</td>\n",
       "    </tr>\n",
       "  </tbody>\n",
       "</table>\n",
       "</div>"
      ],
      "text/plain": [
       "     FECHA_DE_INSPECCION                  DISTRITO TIPO_VIAL_ACCESO_PRINCIPAL  \\\n",
       "159           19/01/2017                12 - USERA                         CL   \n",
       "313           23/01/2017               01 - CENTRO                         CL   \n",
       "613           02/02/2017              21 - BARAJAS                         CL   \n",
       "1199          09/01/2017             07 - CHAMBERI                         CL   \n",
       "1489          24/02/2017               01 - CENTRO                         CL   \n",
       "1495          24/02/2017               01 - CENTRO                         CL   \n",
       "1498          24/02/2017               01 - CENTRO                         CL   \n",
       "1503          24/02/2017               01 - CENTRO                         CL   \n",
       "2595          21/01/2017               10 - LATINA                         AV   \n",
       "5018          31/05/2017  08 - FUENCARRAL-EL PARDO                         AV   \n",
       "\n",
       "     NOMBRE_VIA_ACCESO_PRINCIPAL  NUMERO_VIA_ACCESO_PRINCIPAL  \\\n",
       "159                   MARIBLANCA                           11   \n",
       "313                     GRAN VIA                           29   \n",
       "613                      AGUETOL                            8   \n",
       "1199                  RIOS ROSAS                            2   \n",
       "1489                  FUENCARRAL                           94   \n",
       "1495                  FUENCARRAL                           94   \n",
       "1498                  FUENCARRAL                           94   \n",
       "1503                  FUENCARRAL                           94   \n",
       "2595                 LAS AGUILAS                            0   \n",
       "5018           MONFORTE DE LEMOS                           30   \n",
       "\n",
       "           ACTIVIDAD_INSPECTORA        AMBITO  \\\n",
       "159   30 - Control de Productos  10 - Consumo   \n",
       "313   30 - Control de Productos  10 - Consumo   \n",
       "613   30 - Control de Productos  10 - Consumo   \n",
       "1199  30 - Control de Productos  10 - Consumo   \n",
       "1489  30 - Control de Productos  10 - Consumo   \n",
       "1495  30 - Control de Productos  10 - Consumo   \n",
       "1498  30 - Control de Productos  10 - Consumo   \n",
       "1503  30 - Control de Productos  10 - Consumo   \n",
       "2595  30 - Control de Productos  10 - Consumo   \n",
       "5018  30 - Control de Productos  10 - Consumo   \n",
       "\n",
       "                                               EPIGRAFE  Unnamed: 8  \n",
       "159   471104 - COM.MENOR PRODUCTOS ALIMENTICIOS NO P...         nan  \n",
       "313            476101 - COMERCIO AL POR MENOR DE LIBROS         nan  \n",
       "613   471901 - COM.MENOR ESTABL.NO ESPEC.S/PREDOMINI...         nan  \n",
       "1199          475901 - COMERCIO AL POR MENOR DE MUEBLES         nan  \n",
       "1489  477808 - OTRO COMERCIO AL POR MENOR DEL ARTICU...         nan  \n",
       "1495  477808 - OTRO COMERCIO AL POR MENOR DEL ARTICU...         nan  \n",
       "1498  477808 - OTRO COMERCIO AL POR MENOR DEL ARTICU...         nan  \n",
       "1503  477808 - OTRO COMERCIO AL POR MENOR DEL ARTICU...         nan  \n",
       "2595  477101 - COMERCIO MENOR PRENDAS DE VESTIR EN E...         nan  \n",
       "5018  476501 - COMERCIO AL POR MENOR DE JUEGOS Y JUG...         nan  "
      ]
     },
     "execution_count": 74,
     "metadata": {},
     "output_type": "execute_result"
    }
   ],
   "source": [
    "inspecciones[inspecciones['ACTIVIDAD_INSPECTORA']=='30 - Control de Productos']"
   ]
  },
  {
   "cell_type": "markdown",
   "metadata": {
    "collapsed": true
   },
   "source": [
    "Eso es todo, tengo pendiente el aprender a presentar estos datos en mapas, con diagramas de calor etc...Tarea pendiente.."
   ]
  },
  {
   "cell_type": "code",
   "execution_count": null,
   "metadata": {
    "collapsed": true
   },
   "outputs": [],
   "source": []
  }
 ],
 "metadata": {
  "kernelspec": {
   "display_name": "Python 3",
   "language": "python",
   "name": "python3"
  },
  "language_info": {
   "codemirror_mode": {
    "name": "ipython",
    "version": 3
   },
   "file_extension": ".py",
   "mimetype": "text/x-python",
   "name": "python",
   "nbconvert_exporter": "python",
   "pygments_lexer": "ipython3",
   "version": "3.6.2"
  }
 },
 "nbformat": 4,
 "nbformat_minor": 2
}
